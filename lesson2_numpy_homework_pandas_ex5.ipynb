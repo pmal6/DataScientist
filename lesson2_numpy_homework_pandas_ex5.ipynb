{
 "cells": [
  {
   "cell_type": "code",
   "execution_count": 1,
   "id": "d65b413a",
   "metadata": {},
   "outputs": [
    {
     "name": "stdout",
     "output_type": "stream",
     "text": [
      "[[ 1  6]\n",
      " [ 2  8]\n",
      " [ 3 11]\n",
      " [ 3 10]\n",
      " [ 1  7]]\n",
      "Размерность a: 2\n",
      "Форма а: (5, 2)\n"
     ]
    }
   ],
   "source": [
    "# Задание 1\n",
    "# Импортируйте библиотеку Numpy и дайте ей псевдоним np.\n",
    "\n",
    "import numpy as np\n",
    "\n",
    "# Создайте массив Numpy под названием a размером 5x2, то есть состоящий из 5 строк и 2 столбцов. \n",
    "# Первый столбец должен содержать числа 1, 2, 3, 3, 1, а второй - числа 6, 8, 11, 10, 7.\n",
    "\n",
    "\n",
    "a = np.array([[1, 6],\n",
    "[2, 8],\n",
    "[3, 11],\n",
    "[3,10],\n",
    "[1,7]])\n",
    "\n",
    "print(a)\n",
    "print(\"Размерность a: {}\".format(a.ndim))\n",
    "print(\"Форма а: {}\".format(a.shape))\n"
   ]
  },
  {
   "cell_type": "code",
   "execution_count": 2,
   "id": "80ad4088",
   "metadata": {},
   "outputs": [
    {
     "name": "stdout",
     "output_type": "stream",
     "text": [
      "Средние значения столбцов: [2.  8.4]\n"
     ]
    }
   ],
   "source": [
    "print(\"Средние значения столбцов: {}\".format(a.mean(axis=0)))\n"
   ]
  },
  {
   "cell_type": "code",
   "execution_count": 3,
   "id": "9c6a92ac",
   "metadata": {},
   "outputs": [],
   "source": [
    "mean_a = np.array(a.mean(axis=0))\n"
   ]
  },
  {
   "cell_type": "code",
   "execution_count": 4,
   "id": "f3519739",
   "metadata": {
    "scrolled": true
   },
   "outputs": [
    {
     "name": "stdout",
     "output_type": "stream",
     "text": [
      "[2.  8.4]\n"
     ]
    }
   ],
   "source": [
    "print(mean_a)"
   ]
  },
  {
   "cell_type": "code",
   "execution_count": 5,
   "id": "aa253d3a",
   "metadata": {},
   "outputs": [],
   "source": [
    "## Задание 2\n",
    "## вычислить массив a_centered отняв от значений массива а средние значения признаков в mean_a \n",
    "\n",
    "a_centered = a - mean_a"
   ]
  },
  {
   "cell_type": "code",
   "execution_count": 6,
   "id": "d719e63f",
   "metadata": {},
   "outputs": [
    {
     "name": "stdout",
     "output_type": "stream",
     "text": [
      "[[-1.  -2.4]\n",
      " [ 0.  -0.4]\n",
      " [ 1.   2.6]\n",
      " [ 1.   1.6]\n",
      " [-1.  -1.4]]\n"
     ]
    }
   ],
   "source": [
    "print(a_centered)\n"
   ]
  },
  {
   "cell_type": "code",
   "execution_count": 7,
   "id": "9d1ce177",
   "metadata": {},
   "outputs": [
    {
     "name": "stdout",
     "output_type": "stream",
     "text": [
      "Форма а_centered: (5, 2)\n"
     ]
    }
   ],
   "source": [
    "print(\"Форма а_centered: {}\".format(a_centered.shape))"
   ]
  },
  {
   "cell_type": "code",
   "execution_count": 8,
   "id": "d856e961",
   "metadata": {},
   "outputs": [
    {
     "name": "stdout",
     "output_type": "stream",
     "text": [
      "-1.0\n",
      "-2.4000000000000004\n"
     ]
    }
   ],
   "source": [
    "## Задание 3\n",
    "## Найти скалярное произведение столбцов массива a_centered\n",
    "print( a_centered[0,0])\n",
    "print( a_centered[0,1])"
   ]
  },
  {
   "cell_type": "code",
   "execution_count": 9,
   "id": "0c27aab5",
   "metadata": {},
   "outputs": [
    {
     "name": "stdout",
     "output_type": "stream",
     "text": [
      "[-1.  0.  1.  1. -1.]\n",
      "[-2.4 -0.4  2.6  1.6 -1.4]\n",
      "8.0\n"
     ]
    }
   ],
   "source": [
    "a1 = a_centered[:,0]\n",
    "a2 = a_centered[:,1]\n",
    "a_centered_sp = a1@a2\n",
    "print(a1)\n",
    "print(a2)\n",
    "print(a_centered_sp)"
   ]
  },
  {
   "cell_type": "code",
   "execution_count": 10,
   "id": "836f69d3",
   "metadata": {},
   "outputs": [
    {
     "name": "stdout",
     "output_type": "stream",
     "text": [
      "2.0\n"
     ]
    }
   ],
   "source": [
    "## Делим a_center_sp на число N-1 где N - число наблюдений ( = 5)\n",
    "print(a_centered_sp / 4)\n"
   ]
  },
  {
   "cell_type": "code",
   "execution_count": 11,
   "id": "5eae2b3b",
   "metadata": {
    "scrolled": true
   },
   "outputs": [
    {
     "name": "stdout",
     "output_type": "stream",
     "text": [
      "[[ 1  2  3  3  1]\n",
      " [ 6  8 11 10  7]]\n",
      "[[1.  2. ]\n",
      " [2.  4.3]]\n"
     ]
    }
   ],
   "source": [
    "## Задание 4.\n",
    "## Транспонируем матрицу a и вычисляем ковариацию с помощью функции np.cov()\n",
    "a_transpon = np.transpose(a)\n",
    "print(a_transpon)\n",
    "print(np.cov(a_transpon))\n"
   ]
  },
  {
   "cell_type": "code",
   "execution_count": 12,
   "id": "4706262c",
   "metadata": {},
   "outputs": [
    {
     "name": "stdout",
     "output_type": "stream",
     "text": [
      "2.0\n"
     ]
    }
   ],
   "source": [
    "## Таким образом ковариация равна элементу в строке с индексом 0 и столбце с индексом 1 - [0,1]\n",
    "print(np.cov(a_transpon)[0,1])\n"
   ]
  },
  {
   "cell_type": "code",
   "execution_count": 13,
   "id": "a64fcf41",
   "metadata": {
    "scrolled": false
   },
   "outputs": [
    {
     "name": "stdout",
     "output_type": "stream",
     "text": [
      "   author_id author_name\n",
      "0          1    Тургенев\n",
      "1          2       Чехов\n",
      "2          3  Островский\n"
     ]
    }
   ],
   "source": [
    "## Тема \"Работа с данными в Pandas\"\n",
    "\n",
    "## Задание 1\n",
    "## Импортируйте библиотеку Pandas и дайте ей псевдоним pd.\n",
    "\n",
    "import pandas as pd\n",
    "import numpy as np\n",
    "\n",
    "## Создайте датафрейм authors со столбцами author_id и author_name, в которых соответственно содержаться данные:\n",
    "## [1,2,3] и ['Тургенев', 'Чехов', 'Островский']\n",
    "\n",
    "dfr = {\"author_id\":np.array([1,2,3]), \"author_name\":np.array(['Тургенев', 'Чехов', 'Островский']) }\n",
    "\n",
    "authors = pd.DataFrame(dfr)\n",
    "\n",
    "print(authors)\n",
    "\n",
    " "
   ]
  },
  {
   "cell_type": "code",
   "execution_count": 14,
   "id": "e8502421",
   "metadata": {},
   "outputs": [
    {
     "name": "stdout",
     "output_type": "stream",
     "text": [
      "   author_id            book_title  price\n",
      "0          1           Отцы и дети    450\n",
      "1          1                 Рудин    300\n",
      "2          1     Дворянское гнездо    350\n",
      "3          2      Толстый и тонкий    500\n",
      "4          2       Дама с собачкой    450\n",
      "5          3                 Гроза    370\n",
      "6          3  Таланты и поклонники    290\n"
     ]
    }
   ],
   "source": [
    "## Затем создайте датафрейм book cо столбцами author_id, book_title и price,\n",
    "## в которых соответственно содержатся данные:  \n",
    "## [1, 1, 1, 2, 2, 3, 3],\n",
    "## ['Отцы и дети', 'Рудин', 'Дворянское гнездо', 'Толстый и тонкий', 'Дама с собачкой',\n",
    "## 'Гроза', 'Таланты и поклонники'],\n",
    "## [450, 300, 350, 500, 450, 370, 290].\n",
    "\n",
    "d = {\"author_id\":np.array([1, 1, 1, 2, 2, 3, 3]), \"book_title\":np.array(['Отцы и дети', 'Рудин', 'Дворянское гнездо', 'Толстый и тонкий', 'Дама с собачкой','Гроза', 'Таланты и поклонники']), \"price\":np.array([450, 300, 350, 500, 450, 370, 290] ) }\n",
    "\n",
    "book = pd.DataFrame(d)\n",
    "\n",
    "print(book)\n"
   ]
  },
  {
   "cell_type": "code",
   "execution_count": 15,
   "id": "57d9d668",
   "metadata": {
    "scrolled": true
   },
   "outputs": [
    {
     "name": "stdout",
     "output_type": "stream",
     "text": [
      "   author_id author_name            book_title  price\n",
      "0          1    Тургенев           Отцы и дети    450\n",
      "1          1    Тургенев                 Рудин    300\n",
      "2          1    Тургенев     Дворянское гнездо    350\n",
      "3          2       Чехов      Толстый и тонкий    500\n",
      "4          2       Чехов       Дама с собачкой    450\n",
      "5          3  Островский                 Гроза    370\n",
      "6          3  Островский  Таланты и поклонники    290\n"
     ]
    }
   ],
   "source": [
    "## Задание 2 .\n",
    "## Получите датафрейм authors_price, соединив датафреймы authors и books по полю author_id\n",
    "authors_price = authors.merge(book, on=[\"author_id\"])\n",
    "print(authors_price)\n"
   ]
  },
  {
   "cell_type": "code",
   "execution_count": 16,
   "id": "220fee43",
   "metadata": {},
   "outputs": [
    {
     "name": "stdout",
     "output_type": "stream",
     "text": [
      "   author_id author_name            book_title  price\n",
      "6          3  Островский  Таланты и поклонники    290\n",
      "1          1    Тургенев                 Рудин    300\n",
      "2          1    Тургенев     Дворянское гнездо    350\n",
      "5          3  Островский                 Гроза    370\n",
      "0          1    Тургенев           Отцы и дети    450\n",
      "4          2       Чехов       Дама с собачкой    450\n",
      "3          2       Чехов      Толстый и тонкий    500\n"
     ]
    }
   ],
   "source": [
    "## Задание 3\n",
    "## Создайте датафрейм top5, в котором содержатся строки из authors_price с пятью самыми дорогими книгами.\n",
    "\n",
    "## print(authors_price.sort_values('price'))\n",
    "authors_price_top = authors_price.sort_values('price')\n",
    "\n",
    "print(authors_price_top)\n"
   ]
  },
  {
   "cell_type": "code",
   "execution_count": 17,
   "id": "6b00737e",
   "metadata": {},
   "outputs": [
    {
     "name": "stdout",
     "output_type": "stream",
     "text": [
      "   author_id author_name            book_title  price\n",
      "6          3  Островский  Таланты и поклонники    290\n",
      "1          1    Тургенев                 Рудин    300\n",
      "2          1    Тургенев     Дворянское гнездо    350\n",
      "5          3  Островский                 Гроза    370\n",
      "0          1    Тургенев           Отцы и дети    450\n"
     ]
    }
   ],
   "source": [
    "top5 = authors_price_top.head(5)\n",
    "print(top5)"
   ]
  },
  {
   "cell_type": "code",
   "execution_count": 26,
   "id": "18110025",
   "metadata": {},
   "outputs": [
    {
     "name": "stdout",
     "output_type": "stream",
     "text": [
      "            price                                                          \n",
      "            count        mean        std    min    25%    50%    75%    max\n",
      "author_name                                                                \n",
      "Островский    2.0  330.000000  56.568542  290.0  310.0  330.0  350.0  370.0\n",
      "Тургенев      3.0  366.666667  76.376262  300.0  325.0  350.0  400.0  450.0\n",
      "Чехов         2.0  475.000000  35.355339  450.0  462.5  475.0  487.5  500.0\n"
     ]
    }
   ],
   "source": [
    "## Задание 4\n",
    "## Создайте датафрейм authors_stat на основе информации из authors_price. В датафрейме authors_stat\n",
    "## должны быть четыре столбца:\n",
    "## author_name, min_price, max_price и mean_price,\n",
    "## в которых должны содержаться соответственно имя автора, минимальная, максимальная и средняя цена\n",
    "## на книги этого автора.\n",
    "\n",
    "b = authors_price[['author_name', 'price']].groupby('author_name').describe()\n",
    "print (b)\n",
    "\n",
    "\n"
   ]
  },
  {
   "cell_type": "code",
   "execution_count": 27,
   "id": "ef7d7553",
   "metadata": {},
   "outputs": [
    {
     "name": "stdout",
     "output_type": "stream",
     "text": [
      "               min    max        mean\n",
      "author_name                          \n",
      "Островский   290.0  370.0  330.000000\n",
      "Тургенев     300.0  450.0  366.666667\n",
      "Чехов        450.0  500.0  475.000000\n"
     ]
    }
   ],
   "source": [
    "authors_stat = b['price'][['min', 'max', 'mean']]\n",
    "print(authors_stat)\n"
   ]
  },
  {
   "cell_type": "code",
   "execution_count": 28,
   "id": "e26e8a69",
   "metadata": {},
   "outputs": [
    {
     "name": "stdout",
     "output_type": "stream",
     "text": [
      "             price        \n",
      "cover       мягкая твердая\n",
      "author_name               \n",
      "Островский   660.0     0.0\n",
      "Тургенев     650.0   450.0\n",
      "Чехов          0.0   950.0\n"
     ]
    }
   ],
   "source": [
    "## Задание 5\n",
    "## Задание 5**\n",
    "##Создайте новый столбец в датафрейме authors_price под названием cover,\n",
    "##в нем будут располагаться данные о том, какая обложка у данной книги - твердая или мягкая.\n",
    "##В этот столбец поместите данные из следующего списка:\n",
    "##['твердая', 'мягкая', 'мягкая', 'твердая', 'твердая', 'мягкая', 'мягкая'].\n",
    "##Просмотрите документацию по функции pd.pivot_table с помощью вопросительного знака.\n",
    "##Для каждого автора посчитайте суммарную стоимость книг в твердой и мягкой обложке.\n",
    "##Используйте для этого функцию pd.pivot_table. При этом столбцы должны называться \"твердая\" и \"мягкая\",\n",
    "##а индексами должны быть фамилии авторов. Пропущенные значения стоимостей заполните нулями,\n",
    "##при необходимости загрузите библиотеку Numpy.\n",
    "##Назовите полученный датасет book_info и сохраните его в формат pickle под названием \"book_info.pkl\".\n",
    "##Затем загрузите из этого файла датафрейм и назовите его book_info2. Удостоверьтесь,\n",
    "##что датафреймы book_info и book_info2 идентичны.\n",
    "\n",
    "authors_price['cover'] = ['твердая', 'мягкая', 'мягкая', 'твердая', 'твердая', 'мягкая', 'мягкая']\n",
    "\n",
    "book_info = authors_price[['author_name', 'cover', 'price']].pivot_table(index='author_name', columns='cover', aggfunc=sum).fillna(0)\n",
    "print(book_info)\n",
    "\n"
   ]
  },
  {
   "cell_type": "code",
   "execution_count": 29,
   "id": "9bffbf4c",
   "metadata": {},
   "outputs": [],
   "source": [
    "book_info.to_pickle('book_info.pkl')\n"
   ]
  },
  {
   "cell_type": "code",
   "execution_count": null,
   "id": "8768c815",
   "metadata": {},
   "outputs": [],
   "source": []
  }
 ],
 "metadata": {
  "kernelspec": {
   "display_name": "Python 3 (ipykernel)",
   "language": "python",
   "name": "python3"
  },
  "language_info": {
   "codemirror_mode": {
    "name": "ipython",
    "version": 3
   },
   "file_extension": ".py",
   "mimetype": "text/x-python",
   "name": "python",
   "nbconvert_exporter": "python",
   "pygments_lexer": "ipython3",
   "version": "3.9.12"
  }
 },
 "nbformat": 4,
 "nbformat_minor": 5
}
